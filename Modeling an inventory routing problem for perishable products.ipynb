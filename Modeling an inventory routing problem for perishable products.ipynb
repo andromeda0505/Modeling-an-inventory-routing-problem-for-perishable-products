{
 "cells": [
  {
   "cell_type": "markdown",
   "metadata": {},
   "source": [
    "# Inventory  Routing Problem: IRP"
   ]
  },
  {
   "cell_type": "markdown",
   "metadata": {},
   "source": [
    "The two problems below are integrated  \n",
    "- Inventory planning problem: Find the delivery date and quantity that minimizes inventory and out-of-stock costs.    \n",
    "- Delivery planning problem: Find the delivery date and route that minimizes the total operating time of the delivery person. "
   ]
  },
  {
   "cell_type": "markdown",
   "metadata": {},
   "source": [
    "(What is inventory cost?) Cost required to keep inventory during a certain period of time.  \n",
    "For example, location cost, management cost, etc. The higher the inventory holding ratio, the higher the cost.  \n",
    "  \n",
    "⇒ Only the necessary quantity should be kept in stock, and it is necessary to decide when and how much to deliver appropriately."
   ]
  },
  {
   "cell_type": "markdown",
   "metadata": {},
   "source": [
    "This notebook shows the implementtion of the following paper  \n",
    "[Soysal+, 2015] Modeling an Inventory Routing Problem for perishable products with environmental considerations and demand uncertainty  \n",
    "https://www.sciencedirect.com/science/article/abs/pii/S0925527315000766"
   ]
  },
  {
   "cell_type": "markdown",
   "metadata": {},
   "source": [
    "In addition to the normal IRP, consider the following  factors\n",
    "* Multiple periods of time  \n",
    "* Perishable goods  \n",
    "* Environment (CO2 emissions, fuel consumption)  \n",
    "* Demand uncertainty (constraints are stochastic ⇒ stochastic constraint programming problem)  \n",
    "  \n",
    "Problem  \n",
    "\"Find the routes and volume of shipments in each period that minimizes the costs of inventory, destruction, fuel, and drivers.\"\n",
    "\n",
    "Sensitivity analysis（Analyze optimal values by varying the following variables）  \n",
    "* Demand：base, demand1, demand2  \n",
    "* C=0.1(base), 0.05, 0.15, 0.2  \n",
    "* Shelf life：m=2(base), 3, 4  \n",
    "* Inventory holding costs (€/kg)：h=0.06(base), 0.03, 0.09, 0.12  \n",
    "* Service level (processed rate) (%)：a=95(base), 90, 92.5, 97.5  \n",
    "* Fuel (€/L)：l=1.7(base), 1.2, 2,2\n",
    "* Vehicle speed(km/h)：f=80(base), 40, 120"
   ]
  },
  {
   "cell_type": "code",
   "execution_count": 1,
   "metadata": {},
   "outputs": [],
   "source": [
    "import numpy as np\n",
    "import math\n",
    "import scipy as sp\n",
    "from scipy import stats\n",
    "import pulp\n",
    "import time"
   ]
  },
  {
   "cell_type": "markdown",
   "metadata": {},
   "source": [
    "## Definition of constants and variables"
   ]
  },
  {
   "cell_type": "code",
   "execution_count": 2,
   "metadata": {},
   "outputs": [],
   "source": [
    "V = 12 # number of node(0:depot, 1~11:customer)\n",
    "K = 7  # number of vehicles\n",
    "T = 4  # duration\n",
    "\n",
    "range_i = range(V)\n",
    "range_j = range(V)\n",
    "range_i_ = range(1,V)\n",
    "range_j_ = range(1,V)\n",
    "range_k = range(1,K+1)\n",
    "range_t = range(1,T+1)"
   ]
  },
  {
   "cell_type": "code",
   "execution_count": 105,
   "metadata": {},
   "outputs": [],
   "source": [
    "### Parameter \n",
    "# Table 4\n",
    "xi = 1        # fuel-to-air mass ratio ξ\n",
    "kappa = 44    # calorific value of fuel κ\n",
    "psi = 737     # unit conversion Ψ \n",
    "k_e = 0.2     # engine friction coefficient\n",
    "N_e = 33      # engine speed\n",
    "V_e = 5       # engine displacement\n",
    "rho = 1.2041  # air density ρ\n",
    "A_e = 3.912   # surface area\n",
    "mu = 6350     # weight on curve μ\n",
    "g = 9.81      # acceleration of gravity\n",
    "phi = 0       # road angle Φ\n",
    "C_d = 0.7     # air resistance coefficient\n",
    "C_r = 0.01    # rotational resistance coefficient\n",
    "epsilon = 0.4 # drivetrain efficiency ε\n",
    "varpi = 0.9   # Engine efficiency parameters ϖ\n",
    "l = 1.7       # 1Lfuel cost per (€/L)\n",
    "r = 0.003     # driver's wage per second(€/s)\n",
    "\n",
    "# ↓\n",
    "# Table 2\n",
    "lambda_ = xi / (kappa*psi) \n",
    "y = k_e * N_e * V_e\n",
    "gamma = 1 / (1000*epsilon*varpi)\n",
    "beta = 0.5 * C_d * A_e * rho\n",
    "s_ = g * np.sin(phi) + g * C_r * np.cos(phi)\n",
    "\n",
    "# 6.1 Description and data\n",
    "c = 10000     # vehicle capacity (10 tonnes = 10000 kg)\n",
    "b = 0.21      # model M, M_P Parameters needed to calculate fuel costs at (L/km) (4.1reference)\n",
    "u = 2.63      # fuel conversion factor (kg/L)\n",
    "f = 80        # vehicle speed (km/h)\n",
    "C = 0.1       # restrict(21)\n",
    "alpha = 0.95      # service level (%)\n",
    "h = 0.06      # inventory holding cost (€/kg)\n",
    "m = 2         # shelf life (week)\n",
    "p = 0.6       # Corruption cost (€/kg)\n",
    "\n",
    "# 3.3\n",
    "# standard normal random variate with cumulative probability (lower probability) alpha\n",
    "Za = stats.norm.ppf(loc=0, scale=1, q=alpha)"
   ]
  },
  {
   "cell_type": "code",
   "execution_count": 106,
   "metadata": {},
   "outputs": [],
   "source": [
    "## demand (4weeks)\n",
    "# demand means \n",
    "# Add 0 for subscript．1~4 store the value in\n",
    "d_mu = [\n",
    "    [0,0,0,0,0],\n",
    "    [0,900,400,1000,600],\n",
    "    [0,1400,1200,17,1200],\n",
    "    [0,500,500,1250,600],\n",
    "    [0,1100,2500,500,400],\n",
    "    [0,1050,900,1500,1100],\n",
    "    [0,1200,500,400,1400],\n",
    "    [0,800,700,500,500],\n",
    "    [0,1900,400,300,1300],\n",
    "    [0,800,400,700,1300],\n",
    "    [0,1100,1600,400,300],\n",
    "    [0,2600,3200,2500,3200],\n",
    "]\n",
    "\n",
    "# calculated for constraint (21)\n",
    "right_of_const_21 = np.zeros([V, T+1])\n",
    "for t in range_t:\n",
    "    for i in range_i_:\n",
    "        right_of_const_21[i][t] = sum(d_mu[i][s] for s in range(1, t+1)) + np.sqrt(sum(d_mu[i][s]**2 for s in range(1, t+1)))*C*Za\n",
    "\n",
    "## distance (12*12)\n",
    "a = [\n",
    "    [0,67,89.2,126,78.1,70.6,106,66.3,64.4,156,151,35.5],\n",
    "    [73.2,0,154,191,143,144,141,101,74.3,166,176,61.5],\n",
    "    [70.8,136,0,65.9,62.9,113,158,118,126,218,212,97.2],\n",
    "    [126,192,69.5,0,98.9,171,233,193,182,274,268,153],\n",
    "    [78.4,144,63.2,99.7,0,123,185,145,134,226,220,105],\n",
    "    [70.9,144,105,163,115,0,50.2,58.4,120,155,220,105],\n",
    "    [106,131,161,222,175,50.9,0,41.6,75.3,105,199,84.4],\n",
    "    [66.5,91.2,121,182,135,58.2,40.1,0,35.3,117,159,44.4],\n",
    "    [67.4,74.9,149,185,137,92.7,74.4,34.5,0,92.1,120,34.8],\n",
    "    [158,166,239,276,228,155,106,116,92.4,0,69.6,126],\n",
    "    [150,176,232,268,220,221,192,152,119,70,0,119],\n",
    "    [35,60.3,116,153,105,106,83.6,43.7,30.6,123,118,0]\n",
    "]"
   ]
  },
  {
   "cell_type": "markdown",
   "metadata": {},
   "source": [
    "## Formulation"
   ]
  },
  {
   "cell_type": "code",
   "execution_count": 107,
   "metadata": {},
   "outputs": [],
   "source": [
    "problem = pulp.LpProblem(\"IRP\", pulp.LpMinimize)"
   ]
  },
  {
   "cell_type": "markdown",
   "metadata": {},
   "source": [
    "### Defining decision variables"
   ]
  },
  {
   "cell_type": "code",
   "execution_count": 108,
   "metadata": {},
   "outputs": [],
   "source": [
    "### decision variables\n",
    "# X <-(11)\n",
    "# Binary variable equal to 1 if vehicle k goes from i to j in period t, and 0 otherwise\n",
    "# 0-1 variable (path)\n",
    "X = pulp.LpVariable.dicts(\"X\", (range_i, range_j, range_k, range_t), cat=\"Binary\")\n",
    "for t in range_t:\n",
    "    for k in range_k:\n",
    "        for j in range_j:\n",
    "            for i in range_i:\n",
    "                if i == j:\n",
    "                    problem += X[i][j][k][t] == 0\n",
    "\n",
    "# F <-(12)\n",
    "# The load on vehicle k which goes from i to j in period t, kg\n",
    "# load\n",
    "F = pulp.LpVariable.dicts(\"F\", (range_i, range_j, range_k, range_t), lowBound=0)\n",
    "for t in range_t:\n",
    "    for k in range_k:\n",
    "        for j in range_j:\n",
    "            for i in range_i:\n",
    "                if i == j:\n",
    "                    problem += F[i][j][k][t] == 0"
   ]
  },
  {
   "cell_type": "markdown",
   "metadata": {},
   "source": [
    "### Definition of data required for objective function and constraints"
   ]
  },
  {
   "cell_type": "code",
   "execution_count": 109,
   "metadata": {},
   "outputs": [],
   "source": [
    "# I <-(13)\n",
    "# The amount of inventory at customer i at the end of period t, where I_i,0 = 0\n",
    "# In stock\n",
    "I = pulp.LpVariable.dicts(\"I\",(range_i_, range_t))\n",
    "\n",
    "# I+ <-(14)\n",
    "# Derived decision variable to calculate positive inventory levels, kg\n",
    "# Value obtained from the constraint of the expected value of the inventory amount (inventory amount)\n",
    "Ip = pulp.LpVariable.dicts(\"Ip\", (range_i_, range_t),lowBound =0)\n",
    "\n",
    "# W <-(14)\n",
    "# The amount of waste at customer i at the end of period t, kg\n",
    "# Amount of corruption\n",
    "W = pulp.LpVariable.dicts(\"W\", (range_i_, range_t),lowBound =0)\n",
    "\n",
    "# Q <-(15)\n",
    "# The amount of product delivered by vehicle k to customer i in the beginning of period t, kg\n",
    "# # the amount the customer receives\n",
    "Q = pulp.LpVariable.dicts(\"Q\", (range_i_, range_k, range_t) ,lowBound =0)"
   ]
  },
  {
   "cell_type": "markdown",
   "metadata": {},
   "source": [
    "### Objective function definition"
   ]
  },
  {
   "cell_type": "code",
   "execution_count": 110,
   "metadata": {},
   "outputs": [],
   "source": [
    "### objective function\n",
    "# (1)\n",
    "inventory_cost = pulp.lpSum(Ip[i][t] * h for i in range_i_ for t in range_t)\n",
    "\n",
    "waste_cost = pulp.lpSum(W[i][t] * p for i in range_i_ for t in range(m,T+1))\n",
    "\n",
    "fuel_cost = pulp.lpSum(lambda_*(y*(a[i][j])*X[i][j][k][t] + gamma*beta*a[i][j]*f**2*X[i][j][k][t]\n",
    "                               + gamma*s_*(mu*X[i][j][k][t]+F[i][j][k][t])*a[i][j]) * l if i != j else 0\n",
    "                          for t in range_t for k in range_k for j in range_j for i in range_i)\n",
    "\n",
    "driver_cost = pulp.lpSum((a[i][j] / f) * X[i][j][k][t] * r if i != j else 0\n",
    "                          for t in range_t for k in range_k for j in range_j for i in range_i)\n",
    "\n",
    "problem += inventory_cost + waste_cost + fuel_cost + driver_cost"
   ]
  },
  {
   "cell_type": "markdown",
   "metadata": {},
   "source": [
    "### Constraint definition"
   ]
  },
  {
   "cell_type": "code",
   "execution_count": 111,
   "metadata": {},
   "outputs": [],
   "source": [
    "### constraints\n",
    "## related to inventory\n",
    "# (2)\n",
    "# Expected value of inventory level for each customer in each period\n",
    "for t in range_t:\n",
    "    for i in range_i_:\n",
    "        problem += I[i][t] == pulp.lpSum(Q[i][k][s] for s in range(1,t+1) for k in range_k) \\\n",
    "        - pulp.lpSum(d_mu[i][s] + W[i][s] for s in range(1,t))\n",
    "        \n",
    "# (3)\n",
    "# Defining the variable Ip used to calculate the inventory cost for the objective function\n",
    "for t in range_t:\n",
    "    for i in range_i_:\n",
    "        problem += Ip[i][t] >= I[i][t]\n",
    "\n",
    "# (4), (5)\n",
    "# Expected spoilage amount for each customer in each period\n",
    "for t in range_t:\n",
    "    if t >= m:\n",
    "        for i in range_i_:\n",
    "            problem += W[i][t] >= I[i][t-m+1] - pulp.lpSum(d_mu[i][a] for a in range(t-m+2, t+1)) \\\n",
    "            - pulp.lpSum(W[i][a] for a in range(t-m+2, t))\n",
    "    else:\n",
    "        for i in range_i_:\n",
    "            problem += W[i][t] == 0\n",
    "\n",
    "# (6)->(21)\n",
    "\n",
    "## related to routing\n",
    "# (7)\n",
    "# The number of vehicles coming to a customer is the same as the number of vehicles leaving\n",
    "for t in range_t:\n",
    "    for k in range_k:\n",
    "        for j in range_j_:\n",
    "            left = pulp.lpSum(X[i][j][k][t] if i != j else 0 for i in range_i)\n",
    "            right = pulp.lpSum(X[j][i][k][t] if i != j else 0 for i in range_i)\n",
    "            problem +=  left == right\n",
    "\n",
    "# (8)\n",
    "# Each customer location is visited no more than once by one vehicle\n",
    "for t in range_t:\n",
    "    for k in range_k:\n",
    "        for i in range_i:\n",
    "            problem += pulp.lpSum(X[i][j][k][t] if i != j else 0 for j in range_j) <= 1\n",
    "\n",
    "# (9)\n",
    "# The amount of cargo is reduced by the amount delivered at the customer's site.\n",
    "for t in range_t:\n",
    "    for k in range_k:\n",
    "        for i in range_i_:\n",
    "            left = pulp.lpSum(F[i][j][k][t] if i != j else 0 for j in range_j)\n",
    "            right = pulp.lpSum(F[j][i][k][t] if i != j else 0 for j in range_j) - Q[i][k][t]\n",
    "            problem += left == right\n",
    "\n",
    "# (10)\n",
    "# capacity limit\n",
    "for t in range_t:\n",
    "    for k in range_k:\n",
    "        for i in range_i:\n",
    "            for j in range_j:\n",
    "                if i != j:\n",
    "                    left = F[i][j][k][t]\n",
    "                    right = c * X[j][i][k][t]\n",
    "                    problem += left <= right       \n",
    "                    \n",
    "# (21)\n",
    "# Service level constraints on out-of-stock probabilities at the end of each period\n",
    "for t in range_t:\n",
    "    for i in range_i_:\n",
    "        left = pulp.lpSum(Q[i][k][s] for s in range(1,t+1) for k in range_k) \\\n",
    "        - pulp.lpSum(W[i][s] for s in range(1,t))\n",
    "        problem += left >= right_of_const_21[i][t]"
   ]
  },
  {
   "cell_type": "markdown",
   "metadata": {},
   "source": [
    "# Run optimization"
   ]
  },
  {
   "cell_type": "code",
   "execution_count": null,
   "metadata": {},
   "outputs": [],
   "source": [
    "Run optimization### run\n",
    "from pulp import PULP_CBC_CMD\n",
    "t_start = time.time() \n",
    "result_status = problem.solve(solver=PULP_CBC_CMD())\n",
    "t_end = time.time() "
   ]
  },
  {
   "cell_type": "markdown",
   "metadata": {},
   "source": [
    "# Solution verification"
   ]
  },
  {
   "cell_type": "code",
   "execution_count": null,
   "metadata": {},
   "outputs": [],
   "source": [
    "print(\"optimality = {:}, objective function value = {:}, calculating time = {:} (Second)\"\n",
    "      .format(pulp.LpStatus[result_status], pulp.value(problem.objective), t_end - t_start))"
   ]
  },
  {
   "cell_type": "markdown",
   "metadata": {},
   "source": [
    "# Optimized solution"
   ]
  },
  {
   "cell_type": "code",
   "execution_count": 100,
   "metadata": {},
   "outputs": [
    {
     "name": "stdout",
     "output_type": "stream",
     "text": [
      "unit:€\n",
      "inventory_cost: 610.3413473999999\n",
      "waste_cost 696.3354126\n",
      "fuel_cost 3.0506674324427734\n",
      "driver_cost 0.03375\n",
      "cost: 1309.7611774324428\n"
     ]
    }
   ],
   "source": [
    "print(\"unit:€\")\n",
    "print(\"inventory_cost:\",pulp.value(inventory_cost))\n",
    "print(\"waste_cost\",pulp.value(waste_cost))\n",
    "print(\"fuel_cost\",pulp.value(fuel_cost))\n",
    "print(\"driver_cost\",pulp.value(driver_cost))\n",
    "print(\"cost:\", pulp.value(problem.objective))"
   ]
  },
  {
   "cell_type": "code",
   "execution_count": null,
   "metadata": {},
   "outputs": [],
   "source": []
  }
 ],
 "metadata": {
  "kernelspec": {
   "display_name": "Python 3 (ipykernel)",
   "language": "python",
   "name": "python3"
  },
  "language_info": {
   "codemirror_mode": {
    "name": "ipython",
    "version": 3
   },
   "file_extension": ".py",
   "mimetype": "text/x-python",
   "name": "python",
   "nbconvert_exporter": "python",
   "pygments_lexer": "ipython3",
   "version": "3.9.12"
  },
  "toc": {
   "base_numbering": 1,
   "nav_menu": {},
   "number_sections": true,
   "sideBar": true,
   "skip_h1_title": false,
   "title_cell": "Table of Contents",
   "title_sidebar": "Contents",
   "toc_cell": false,
   "toc_position": {},
   "toc_section_display": true,
   "toc_window_display": true
  }
 },
 "nbformat": 4,
 "nbformat_minor": 2
}
