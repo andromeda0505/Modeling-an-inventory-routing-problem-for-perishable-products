{
 "cells": [
  {
   "cell_type": "markdown",
   "metadata": {},
   "source": [
    "# Vehicle routing problem with vehicle capacity: CVRP "
   ]
  },
  {
   "cell_type": "markdown",
   "metadata": {},
   "source": [
    "- Modeling of optimization formulation using PuLP"
   ]
  },
  {
   "cell_type": "code",
   "execution_count": 2,
   "metadata": {},
   "outputs": [
    {
     "name": "stdout",
     "output_type": "stream",
     "text": [
      "Collecting pulp\n",
      "  Downloading PuLP-2.6.0-py3-none-any.whl (14.2 MB)\n",
      "\u001b[K     |████████████████████████████████| 14.2 MB 1.4 MB/s eta 0:00:01\n",
      "\u001b[?25hInstalling collected packages: pulp\n",
      "Successfully installed pulp-2.6.0\n"
     ]
    }
   ],
   "source": [
    "# !pip install pulp # if you need"
   ]
  },
  {
   "cell_type": "code",
   "execution_count": 3,
   "metadata": {},
   "outputs": [],
   "source": [
    "import numpy as np\n",
    "import pandas as pd\n",
    "import pulp\n",
    "from scipy.spatial import distance_matrix\n",
    "import itertools\n",
    "import matplotlib.pyplot as plt\n",
    "%matplotlib inline "
   ]
  },
  {
   "cell_type": "code",
   "execution_count": 4,
   "metadata": {},
   "outputs": [
    {
     "data": {
      "text/html": [
       "<div>\n",
       "<style scoped>\n",
       "    .dataframe tbody tr th:only-of-type {\n",
       "        vertical-align: middle;\n",
       "    }\n",
       "\n",
       "    .dataframe tbody tr th {\n",
       "        vertical-align: top;\n",
       "    }\n",
       "\n",
       "    .dataframe thead th {\n",
       "        text-align: right;\n",
       "    }\n",
       "</style>\n",
       "<table border=\"1\" class=\"dataframe\">\n",
       "  <thead>\n",
       "    <tr style=\"text-align: right;\">\n",
       "      <th></th>\n",
       "      <th>x</th>\n",
       "      <th>y</th>\n",
       "      <th>demand</th>\n",
       "    </tr>\n",
       "  </thead>\n",
       "  <tbody>\n",
       "    <tr>\n",
       "      <th>0</th>\n",
       "      <td>50</td>\n",
       "      <td>50</td>\n",
       "      <td>0</td>\n",
       "    </tr>\n",
       "    <tr>\n",
       "      <th>1</th>\n",
       "      <td>43</td>\n",
       "      <td>4</td>\n",
       "      <td>15</td>\n",
       "    </tr>\n",
       "    <tr>\n",
       "      <th>2</th>\n",
       "      <td>5</td>\n",
       "      <td>11</td>\n",
       "      <td>9</td>\n",
       "    </tr>\n",
       "    <tr>\n",
       "      <th>3</th>\n",
       "      <td>54</td>\n",
       "      <td>81</td>\n",
       "      <td>7</td>\n",
       "    </tr>\n",
       "    <tr>\n",
       "      <th>4</th>\n",
       "      <td>62</td>\n",
       "      <td>3</td>\n",
       "      <td>9</td>\n",
       "    </tr>\n",
       "  </tbody>\n",
       "</table>\n",
       "</div>"
      ],
      "text/plain": [
       "    x   y  demand\n",
       "0  50  50       0\n",
       "1  43   4      15\n",
       "2   5  11       9\n",
       "3  54  81       7\n",
       "4  62   3       9"
      ]
     },
     "execution_count": 4,
     "metadata": {},
     "output_type": "execute_result"
    }
   ],
   "source": [
    "customer_count = 10 # id=0: depot\n",
    "vehicle_count = 4 \n",
    "vehicle_capacity = 50 \n",
    "\n",
    "np.random.seed(seed=32)\n",
    "\n",
    "# location coordinates and amount of package (demand) of each customer\n",
    "df = pd.DataFrame({\"x\":np.random.randint(0,100, customer_count), \n",
    "                   \"y\":np.random.randint(0, 100, customer_count), \n",
    "                   \"demand\":np.random.randint(5, 20, customer_count)})\n",
    "\n",
    "# if id=0, demand=0\n",
    "df.iloc[0].x = 50\n",
    "df.iloc[0].y = 50\n",
    "df.iloc[0].demand = 0\n",
    "\n",
    "# calculate the distance between nodes as a cost\n",
    "cost = pd.DataFrame(distance_matrix(df.loc[:,[\"x\",\"y\"]].values, df.loc[:,[\"x\",\"y\"]].values), index=df.index, columns=df.index).values\n",
    "\n",
    "df.head()"
   ]
  },
  {
   "cell_type": "code",
   "execution_count": 5,
   "metadata": {},
   "outputs": [
    {
     "data": {
      "text/plain": [
       "(-10.0, 110.0)"
      ]
     },
     "execution_count": 5,
     "metadata": {},
     "output_type": "execute_result"
    },
    {
     "data": {
      "image/png": "[encoded data removed]",
      "text/plain": [
       "<Figure size 360x360 with 1 Axes>"
      ]
     },
     "metadata": {
      "needs_background": "light"
     },
     "output_type": "display_data"
    }
   ],
   "source": [
    "# Visualization of depot and customer locations\n",
    "# The subscripts indicate the demand\n",
    "plt.figure(figsize=(5,5))\n",
    "for i in range(customer_count):    \n",
    "    if i == 0:\n",
    "        plt.scatter(df.x[i], df.y[i], c='r')\n",
    "        plt.text(df.x[i]+1, df.y[i]+1, \"depot\")\n",
    "    else:\n",
    "        plt.scatter(df.x[i], df.y[i], c='b')\n",
    "        plt.text(df.x[i]+1, df.y[i]+1, str(df.demand[i]))\n",
    "plt.xlim([-10, 110])\n",
    "plt.ylim([-10, 110])"
   ]
  },
  {
   "cell_type": "code",
   "execution_count": 6,
   "metadata": {
    "scrolled": false
   },
   "outputs": [
    {
     "name": "stdout",
     "output_type": "stream",
     "text": [
      "Welcome to the CBC MILP Solver \n",
      "Version: 2.10.3 \n",
      "Build Date: Dec 15 2019 \n",
      "\n",
      "command line - /opt/homebrew/Caskroom/miniconda/base/envs/py39/lib/python3.9/site-packages/pulp/apis/../solverdir/cbc/osx/64/cbc /var/folders/sc/gyb0p4hx6njb4b201028h5xw0000gn/T/6a6eb9250573464f942b6cd7aaa00145-pulp.mps timeMode elapsed branch printingOptions all solution /var/folders/sc/gyb0p4hx6njb4b201028h5xw0000gn/T/6a6eb9250573464f942b6cd7aaa00145-pulp.sol (default strategy 1)\n",
      "At line 2 NAME          MODEL\n",
      "At line 3 ROWS\n",
      "At line 529 COLUMNS\n",
      "At line 10376 RHS\n",
      "At line 10901 BOUNDS\n",
      "At line 10992 ENDATA\n",
      "Problem MODEL has 524 rows, 90 columns and 9576 elements\n",
      "Coin0008I MODEL read with 0 errors\n",
      "Option for timeMode changed from cpu to elapsed\n",
      "Problem is infeasible - 0.00 seconds\n",
      "Option for printingOptions changed from normal to all\n",
      "Total time (CPU seconds):       0.01   (Wallclock seconds):       0.04\n",
      "\n",
      "Welcome to the CBC MILP Solver \n",
      "Version: 2.10.3 \n",
      "Build Date: Dec 15 2019 \n",
      "\n",
      "command line - /opt/homebrew/Caskroom/miniconda/base/envs/py39/lib/python3.9/site-packages/pulp/apis/../solverdir/cbc/osx/64/cbc /var/folders/sc/gyb0p4hx6njb4b201028h5xw0000gn/T/2f392bd99d664f6a9763b0f5df900d4d-pulp.mps timeMode elapsed branch printingOptions all solution /var/folders/sc/gyb0p4hx6njb4b201028h5xw0000gn/T/2f392bd99d664f6a9763b0f5df900d4d-pulp.sol (default strategy 1)\n",
      "At line 2 NAME          MODEL\n",
      "At line 3 ROWS\n",
      "At line 542 COLUMNS\n",
      "At line 20235 RHS\n",
      "At line 20773 BOUNDS\n",
      "At line 20954 ENDATA\n",
      "Problem MODEL has 537 rows, 180 columns and 19152 elements\n",
      "Coin0008I MODEL read with 0 errors\n",
      "Option for timeMode changed from cpu to elapsed\n",
      "Continuous objective value is 332.298 - 0.00 seconds\n",
      "Cgl0004I processed model has 537 rows, 180 columns (180 integer (180 of which binary)) and 19152 elements\n",
      "Cbc0038I Initial state - 18 integers unsatisfied sum - 8\n",
      "Cbc0038I Pass   1: suminf.    6.20000 (20) obj. 495.215 iterations 52\n",
      "Cbc0038I Pass   2: suminf.    4.30137 (21) obj. 492.614 iterations 22\n",
      "Cbc0038I Pass   3: suminf.    3.50000 (13) obj. 504.187 iterations 6\n",
      "Cbc0038I Pass   4: suminf.    3.43956 (14) obj. 512.225 iterations 14\n",
      "Cbc0038I Pass   5: suminf.    4.00000 (19) obj. 526.159 iterations 27\n",
      "Cbc0038I Pass   6: suminf.    3.28571 (14) obj. 517.013 iterations 6\n",
      "Cbc0038I Pass   7: suminf.    3.27027 (20) obj. 512.295 iterations 6\n",
      "Cbc0038I Pass   8: suminf.    5.70000 (15) obj. 506.533 iterations 43\n",
      "Cbc0038I Pass   9: suminf.    3.85417 (18) obj. 478.9 iterations 21\n",
      "Cbc0038I Pass  10: suminf.    3.79245 (19) obj. 487.017 iterations 10\n",
      "Cbc0038I Pass  11: suminf.    4.52000 (13) obj. 531.106 iterations 34\n",
      "Cbc0038I Pass  12: suminf.    4.14815 (15) obj. 540.797 iterations 13\n",
      "Cbc0038I Pass  13: suminf.    3.70370 (15) obj. 527.671 iterations 12\n",
      "Cbc0038I Pass  14: suminf.    3.70370 (15) obj. 528.394 iterations 2\n",
      "Cbc0038I Pass  15: suminf.    4.45714 (14) obj. 515.683 iterations 32\n",
      "Cbc0038I Pass  16: suminf.    3.39024 (14) obj. 507.747 iterations 26\n",
      "Cbc0038I Pass  17: suminf.    4.78261 (13) obj. 498.888 iterations 25\n",
      "Cbc0038I Pass  18: suminf.    4.00000 (14) obj. 504.522 iterations 18\n",
      "Cbc0038I Pass  19: suminf.    3.62745 (15) obj. 513.976 iterations 10\n",
      "Cbc0038I Pass  20: suminf.    5.00000 (13) obj. 544.566 iterations 19\n",
      "Cbc0038I Pass  21: suminf.    4.31429 (15) obj. 491.766 iterations 19\n",
      "Cbc0038I Pass  22: suminf.    3.39024 (14) obj. 518.429 iterations 10\n",
      "Cbc0038I Pass  23: suminf.    3.35955 (14) obj. 525.961 iterations 11\n",
      "Cbc0038I Pass  24: suminf.    4.38095 (14) obj. 520.184 iterations 29\n",
      "Cbc0038I Pass  25: suminf.    3.42857 (14) obj. 506.45 iterations 14\n",
      "Cbc0038I Pass  26: suminf.    3.40000 (13) obj. 516.704 iterations 8\n",
      "Cbc0038I Pass  27: suminf.    3.53333 (14) obj. 542.35 iterations 21\n",
      "Cbc0038I Pass  28: suminf.    2.88312 (25) obj. 601.991 iterations 18\n",
      "Cbc0038I Pass  29: suminf.    0.68182 (14) obj. 642.188 iterations 37\n",
      "Cbc0038I Pass  30: suminf.    1.59091 (12) obj. 539.986 iterations 43\n",
      "Cbc0038I No solution found this major pass\n",
      "Cbc0038I Before mini branch and bound, 99 integers at bound fixed and 0 continuous\n",
      "Cbc0038I Full problem 537 rows 180 columns, reduced to 261 rows 79 columns\n",
      "Cbc0038I Mini branch and bound did not improve solution (0.46 seconds)\n",
      "Cbc0038I Full problem 538 rows 180 columns, reduced to 538 rows 180 columns - too large\n",
      "Cbc0038I After 0.46 seconds - Feasibility pump exiting - took 0.44 seconds\n",
      "Cbc0031I 11 added rows had average density of 133.36364\n",
      "Cbc0013I At root node, 11 cuts changed objective from 332.29842 to 344.33673 in 100 passes\n",
      "Cbc0014I Cut generator 0 (Probing) - 0 row cuts average 0.0 elements, 0 column cuts (0 active)  in 0.176 seconds - new frequency is -100\n",
      "Cbc0014I Cut generator 1 (Gomory) - 1589 row cuts average 178.7 elements, 0 column cuts (0 active)  in 0.094 seconds - new frequency is 1\n",
      "Cbc0014I Cut generator 2 (Knapsack) - 0 row cuts average 0.0 elements, 0 column cuts (0 active)  in 0.043 seconds - new frequency is -100\n",
      "Cbc0014I Cut generator 3 (Clique) - 0 row cuts average 0.0 elements, 0 column cuts (0 active)  in 0.004 seconds - new frequency is -100\n",
      "Cbc0014I Cut generator 4 (MixedIntegerRounding2) - 0 row cuts average 0.0 elements, 0 column cuts (0 active)  in 0.098 seconds - new frequency is -100\n",
      "Cbc0014I Cut generator 5 (FlowCover) - 0 row cuts average 0.0 elements, 0 column cuts (0 active)  in 0.005 seconds - new frequency is -100\n",
      "Cbc0014I Cut generator 6 (TwoMirCuts) - 290 row cuts average 132.0 elements, 0 column cuts (0 active)  in 0.056 seconds - new frequency is 1\n",
      "Cbc0014I Cut generator 7 (ZeroHalf) - 425 row cuts average 9.9 elements, 0 column cuts (0 active)  in 0.510 seconds - new frequency is 1\n",
      "Cbc0010I After 0 nodes, 1 on tree, 1e+50 best solution, best possible 344.33673 (1.95 seconds)\n",
      "Cbc0016I Integer solution of 402.27318 found by strong branching after 3760 iterations and 13 nodes (2.42 seconds)\n",
      "Cbc0038I Full problem 537 rows 180 columns, reduced to 253 rows 33 columns\n",
      "Cbc0016I Integer solution of 394.83107 found by strong branching after 4246 iterations and 31 nodes (2.64 seconds)\n",
      "Cbc0038I Full problem 537 rows 180 columns, reduced to 195 rows 25 columns\n",
      "Cbc0016I Integer solution of 381.69751 found by strong branching after 5210 iterations and 60 nodes (3.03 seconds)\n",
      "Cbc0016I Integer solution of 372.107 found by strong branching after 5305 iterations and 61 nodes (3.04 seconds)\n",
      "Cbc0038I Full problem 537 rows 180 columns, reduced to 207 rows 30 columns\n",
      "Cbc0001I Search completed - best objective 372.10699852069, took 7114 iterations and 108 nodes (3.67 seconds)\n",
      "Cbc0032I Strong branching done 1626 times (27936 iterations), fathomed 27 nodes and fixed 46 variables\n",
      "Cbc0035I Maximum depth 20, 2528 variables fixed on reduced cost\n",
      "Cuts at root node changed objective from 332.298 to 344.337\n",
      "Probing was tried 100 times and created 0 cuts of which 0 were active after adding rounds of cuts (0.176 seconds)\n",
      "Gomory was tried 201 times and created 1600 cuts of which 0 were active after adding rounds of cuts (0.119 seconds)\n",
      "Knapsack was tried 100 times and created 0 cuts of which 0 were active after adding rounds of cuts (0.043 seconds)\n",
      "Clique was tried 100 times and created 0 cuts of which 0 were active after adding rounds of cuts (0.004 seconds)\n",
      "MixedIntegerRounding2 was tried 100 times and created 0 cuts of which 0 were active after adding rounds of cuts (0.098 seconds)\n",
      "FlowCover was tried 100 times and created 0 cuts of which 0 were active after adding rounds of cuts (0.005 seconds)\n",
      "TwoMirCuts was tried 201 times and created 373 cuts of which 0 were active after adding rounds of cuts (0.117 seconds)\n",
      "ZeroHalf was tried 201 times and created 608 cuts of which 0 were active after adding rounds of cuts (0.928 seconds)\n",
      "\n",
      "Result - Optimal solution found\n",
      "\n",
      "Objective value:                372.10699852\n",
      "Enumerated nodes:               108\n",
      "Total iterations:               7114\n",
      "Time (CPU seconds):             3.65\n",
      "Time (Wallclock seconds):       3.70\n",
      "\n",
      "Option for printingOptions changed from normal to all\n",
      "Total time (CPU seconds):       3.65   (Wallclock seconds):       3.73\n",
      "\n",
      "Number of vehicles: 2\n",
      "Opimization function value: 372.1069985206904\n"
     ]
    }
   ],
   "source": [
    "# Modeling of optimization formulation using PuLP\n",
    "for vehicle_count in range(1,vehicle_count+1):\n",
    "\n",
    "    problem = pulp.LpProblem(\"CVRP\", pulp.LpMinimize)\n",
    "\n",
    "    # Decision variables\n",
    "    x = [[[pulp.LpVariable(\"x%s_%s,%s\"%(i,j,k), cat=\"Binary\") if i != j else None for k in range(vehicle_count)]for j in range(customer_count)] for i in range(customer_count)]\n",
    "\n",
    "    # Optimization function\n",
    "    problem += pulp.lpSum(cost[i][j] * x[i][j][k] if i != j else 0\n",
    "                          for k in range(vehicle_count) for j in range(customer_count) for i in range (customer_count))\n",
    "\n",
    "    # Constraints\n",
    "    # Each customer location is visited once per vehicle\n",
    "    for j in range(1, customer_count):\n",
    "        problem += pulp.lpSum(x[i][j][k] if i != j else 0 for i in range(customer_count) for k in range(vehicle_count)) == 1 \n",
    "\n",
    "    # Departing from depot and returning to depot\n",
    "    for k in range(vehicle_count):\n",
    "        problem += pulp.lpSum(x[0][j][k] for j in range(1,customer_count)) == 1\n",
    "        problem += pulp.lpSum(x[i][0][k] for i in range(1,customer_count)) == 1\n",
    "\n",
    "    # The number of vehicles coming to a customer is the same as the number of vehicles leaving.\n",
    "    for k in range(vehicle_count):\n",
    "        for j in range(customer_count):\n",
    "            problem += pulp.lpSum(x[i][j][k] if i != j else 0 for i in range(customer_count)) -  pulp.lpSum(x[j][i][k] for i in range(customer_count)) == 0\n",
    "\n",
    "    # Not exceed the maximum capacity \n",
    "    for k in range(vehicle_count):\n",
    "        problem += pulp.lpSum(df.demand[j] * x[i][j][k] if i != j else 0 for i in range(customer_count) for j in range (1,customer_count)) <= vehicle_capacity \n",
    "\n",
    "\n",
    "    # Subtour Elimination Constraints\n",
    "    subtours = []\n",
    "    for i in range(2,customer_count):\n",
    "         subtours += itertools.combinations(range(1,customer_count), i)\n",
    "\n",
    "    for s in subtours:\n",
    "        problem += pulp.lpSum(x[i][j][k] if i !=j else 0 for i, j in itertools.permutations(s,2) for k in range(vehicle_count)) <= len(s) - 1\n",
    "\n",
    "    # Solve problem\n",
    "    if problem.solve() == 1:\n",
    "        print('Number of vehicles:', vehicle_count)\n",
    "        print('Opimization function value:', pulp.value(problem.objective))\n",
    "        break"
   ]
  },
  {
   "cell_type": "code",
   "execution_count": 7,
   "metadata": {
    "scrolled": true
   },
   "outputs": [
    {
     "data": {
      "image/png": "[encoded data removed]",
      "text/plain": [
       "<Figure size 360x360 with 1 Axes>"
      ]
     },
     "metadata": {
      "needs_background": "light"
     },
     "output_type": "display_data"
    }
   ],
   "source": [
    "# Visualization of optimized routes\n",
    "plt.figure(figsize=(5,5))\n",
    "for i in range(customer_count):    \n",
    "    if i == 0:\n",
    "        plt.scatter(df.x[i], df.y[i], c='r')\n",
    "        plt.text(df.x[i]+1, df.y[i]+1, str(i)+\",depot\")\n",
    "    else:\n",
    "        plt.scatter(df.x[i], df.y[i], c='b')\n",
    "        plt.text(df.x[i]+1, df.y[i]+1, str(i)+\"(\"+str(df.demand[i])+\")\")\n",
    "plt.xlim([-10, 110])\n",
    "plt.ylim([-10, 110])\n",
    "\n",
    "for k in range(vehicle_count):\n",
    "    for i in range(customer_count):\n",
    "        for j in range(customer_count):\n",
    "            if i != j and pulp.value(x[i][j][k]) == 1:\n",
    "                plt.plot([df.x[i], df.x[j]], [df.y[i], df.y[j]], c=\"black\")"
   ]
  },
  {
   "cell_type": "code",
   "execution_count": null,
   "metadata": {},
   "outputs": [],
   "source": []
  }
 ],
 "metadata": {
  "kernelspec": {
   "display_name": "Python 3 (ipykernel)",
   "language": "python",
   "name": "python3"
  },
  "language_info": {
   "codemirror_mode": {
    "name": "ipython",
    "version": 3
   },
   "file_extension": ".py",
   "mimetype": "text/x-python",
   "name": "python",
   "nbconvert_exporter": "python",
   "pygments_lexer": "ipython3",
   "version": "3.9.12"
  },
  "toc": {
   "base_numbering": 1,
   "nav_menu": {},
   "number_sections": true,
   "sideBar": true,
   "skip_h1_title": false,
   "title_cell": "Table of Contents",
   "title_sidebar": "Contents",
   "toc_cell": false,
   "toc_position": {},
   "toc_section_display": true,
   "toc_window_display": false
  }
 },
 "nbformat": 4,
 "nbformat_minor": 2
}
